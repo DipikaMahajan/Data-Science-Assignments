{
  "nbformat": 4,
  "nbformat_minor": 0,
  "metadata": {
    "colab": {
      "provenance": []
    },
    "kernelspec": {
      "name": "python3",
      "display_name": "Python 3"
    },
    "language_info": {
      "name": "python"
    }
  },
  "cells": [
    {
      "cell_type": "code",
      "execution_count": 14,
      "metadata": {
        "id": "oIfvOlq_voDi"
      },
      "outputs": [],
      "source": [
        "import pandas as pd\n",
        "import numpy as np\n",
        "import tensorflow as tf\n",
        "from tensorflow import keras\n",
        "from sklearn.model_selection import train_test_split\n",
        "from sklearn.preprocessing import LabelEncoder, StandardScaler\n",
        "from sklearn.metrics import accuracy_score, classification_report"
      ]
    },
    {
      "cell_type": "code",
      "source": [
        "# Load Dataset\n",
        "df = pd.read_csv(\"/content/Alphabets_data.csv\")"
      ],
      "metadata": {
        "id": "SBA4cpEnvvsJ"
      },
      "execution_count": 15,
      "outputs": []
    },
    {
      "cell_type": "code",
      "source": [
        "# Data Exploration\n",
        "print(\"Dataset Shape:\", df.shape)\n",
        "print(\"Class Distribution:\\n\", df['letter'].value_counts())"
      ],
      "metadata": {
        "colab": {
          "base_uri": "https://localhost:8080/"
        },
        "id": "1VerfoYnv7eG",
        "outputId": "dabf8d7c-795e-4af3-abf2-dabc90a68f6f"
      },
      "execution_count": 16,
      "outputs": [
        {
          "output_type": "stream",
          "name": "stdout",
          "text": [
            "Dataset Shape: (20000, 17)\n",
            "Class Distribution:\n",
            " letter\n",
            "U    813\n",
            "D    805\n",
            "P    803\n",
            "T    796\n",
            "M    792\n",
            "A    789\n",
            "X    787\n",
            "Y    786\n",
            "N    783\n",
            "Q    783\n",
            "F    775\n",
            "G    773\n",
            "E    768\n",
            "B    766\n",
            "V    764\n",
            "L    761\n",
            "R    758\n",
            "I    755\n",
            "O    753\n",
            "W    752\n",
            "S    748\n",
            "J    747\n",
            "K    739\n",
            "C    736\n",
            "H    734\n",
            "Z    734\n",
            "Name: count, dtype: int64\n"
          ]
        }
      ]
    },
    {
      "cell_type": "code",
      "source": [
        "# Handling Missing Values\n",
        "df.dropna(inplace=True)"
      ],
      "metadata": {
        "id": "wszlFlTZv-zC"
      },
      "execution_count": 17,
      "outputs": []
    },
    {
      "cell_type": "code",
      "source": [
        "# Separating Features and Labels\n",
        "X = df.drop(columns=['letter'])\n",
        "y = df['letter']"
      ],
      "metadata": {
        "id": "dZXzLNFHwBUK"
      },
      "execution_count": 18,
      "outputs": []
    },
    {
      "cell_type": "code",
      "source": [
        "# Encoding Labels\n",
        "le = LabelEncoder()\n",
        "y = le.fit_transform(y)"
      ],
      "metadata": {
        "id": "vFhJ0OlwwGbP"
      },
      "execution_count": 19,
      "outputs": []
    },
    {
      "cell_type": "code",
      "source": [
        "# Normalizing Features\n",
        "scaler = StandardScaler()\n",
        "X = scaler.fit_transform(X)"
      ],
      "metadata": {
        "id": "uGYtLZLbwJXX"
      },
      "execution_count": 20,
      "outputs": []
    },
    {
      "cell_type": "code",
      "source": [
        "# Splitting Data\n",
        "X_train, X_test, y_train, y_test = train_test_split(X, y, test_size=0.2, random_state=42)"
      ],
      "metadata": {
        "id": "ef_nPDUbwMGa"
      },
      "execution_count": 21,
      "outputs": []
    },
    {
      "cell_type": "code",
      "source": [
        "# Function to Create ANN Model\n",
        "def create_model(hidden_layers=1, neurons=64, activation='relu', learning_rate=0.001):\n",
        "    model = keras.Sequential()\n",
        "    model.add(keras.layers.Input(shape=(X_train.shape[1],)))\n",
        "\n",
        "    for _ in range(hidden_layers):\n",
        "        model.add(keras.layers.Dense(neurons, activation=activation))\n",
        "\n",
        "    model.add(keras.layers.Dense(len(np.unique(y)), activation='softmax'))\n",
        "\n",
        "    model.compile(optimizer=keras.optimizers.Adam(learning_rate=learning_rate),\n",
        "                  loss='sparse_categorical_crossentropy',\n",
        "                  metrics=['accuracy'])\n",
        "    return model"
      ],
      "metadata": {
        "id": "jESE4bd7wPXE"
      },
      "execution_count": 22,
      "outputs": []
    },
    {
      "cell_type": "code",
      "source": [
        "# Training a Simple Model\n",
        "model = create_model()\n",
        "model.fit(X_train, y_train, epochs=20, batch_size=32, verbose=1, validation_data=(X_test, y_test))"
      ],
      "metadata": {
        "colab": {
          "base_uri": "https://localhost:8080/"
        },
        "id": "y0rKsULlwT-C",
        "outputId": "7e29e373-4f44-4fbf-ba6c-e8cb280f3bb5"
      },
      "execution_count": 23,
      "outputs": [
        {
          "output_type": "stream",
          "name": "stdout",
          "text": [
            "Epoch 1/20\n",
            "\u001b[1m500/500\u001b[0m \u001b[32m━━━━━━━━━━━━━━━━━━━━\u001b[0m\u001b[37m\u001b[0m \u001b[1m2s\u001b[0m 3ms/step - accuracy: 0.3170 - loss: 2.5522 - val_accuracy: 0.7032 - val_loss: 1.2304\n",
            "Epoch 2/20\n",
            "\u001b[1m500/500\u001b[0m \u001b[32m━━━━━━━━━━━━━━━━━━━━\u001b[0m\u001b[37m\u001b[0m \u001b[1m1s\u001b[0m 2ms/step - accuracy: 0.7184 - loss: 1.1130 - val_accuracy: 0.7747 - val_loss: 0.8849\n",
            "Epoch 3/20\n",
            "\u001b[1m500/500\u001b[0m \u001b[32m━━━━━━━━━━━━━━━━━━━━\u001b[0m\u001b[37m\u001b[0m \u001b[1m2s\u001b[0m 3ms/step - accuracy: 0.7795 - loss: 0.8347 - val_accuracy: 0.8070 - val_loss: 0.7382\n",
            "Epoch 4/20\n",
            "\u001b[1m500/500\u001b[0m \u001b[32m━━━━━━━━━━━━━━━━━━━━\u001b[0m\u001b[37m\u001b[0m \u001b[1m2s\u001b[0m 2ms/step - accuracy: 0.8019 - loss: 0.7172 - val_accuracy: 0.8240 - val_loss: 0.6487\n",
            "Epoch 5/20\n",
            "\u001b[1m500/500\u001b[0m \u001b[32m━━━━━━━━━━━━━━━━━━━━\u001b[0m\u001b[37m\u001b[0m \u001b[1m1s\u001b[0m 2ms/step - accuracy: 0.8253 - loss: 0.6287 - val_accuracy: 0.8363 - val_loss: 0.5861\n",
            "Epoch 6/20\n",
            "\u001b[1m500/500\u001b[0m \u001b[32m━━━━━━━━━━━━━━━━━━━━\u001b[0m\u001b[37m\u001b[0m \u001b[1m1s\u001b[0m 2ms/step - accuracy: 0.8398 - loss: 0.5694 - val_accuracy: 0.8512 - val_loss: 0.5355\n",
            "Epoch 7/20\n",
            "\u001b[1m500/500\u001b[0m \u001b[32m━━━━━━━━━━━━━━━━━━━━\u001b[0m\u001b[37m\u001b[0m \u001b[1m3s\u001b[0m 2ms/step - accuracy: 0.8559 - loss: 0.5095 - val_accuracy: 0.8568 - val_loss: 0.4960\n",
            "Epoch 8/20\n",
            "\u001b[1m500/500\u001b[0m \u001b[32m━━━━━━━━━━━━━━━━━━━━\u001b[0m\u001b[37m\u001b[0m \u001b[1m1s\u001b[0m 2ms/step - accuracy: 0.8654 - loss: 0.4692 - val_accuracy: 0.8720 - val_loss: 0.4629\n",
            "Epoch 9/20\n",
            "\u001b[1m500/500\u001b[0m \u001b[32m━━━━━━━━━━━━━━━━━━━━\u001b[0m\u001b[37m\u001b[0m \u001b[1m3s\u001b[0m 3ms/step - accuracy: 0.8741 - loss: 0.4351 - val_accuracy: 0.8730 - val_loss: 0.4356\n",
            "Epoch 10/20\n",
            "\u001b[1m500/500\u001b[0m \u001b[32m━━━━━━━━━━━━━━━━━━━━\u001b[0m\u001b[37m\u001b[0m \u001b[1m3s\u001b[0m 3ms/step - accuracy: 0.8825 - loss: 0.4103 - val_accuracy: 0.8808 - val_loss: 0.4093\n",
            "Epoch 11/20\n",
            "\u001b[1m500/500\u001b[0m \u001b[32m━━━━━━━━━━━━━━━━━━━━\u001b[0m\u001b[37m\u001b[0m \u001b[1m3s\u001b[0m 2ms/step - accuracy: 0.8933 - loss: 0.3764 - val_accuracy: 0.8865 - val_loss: 0.3864\n",
            "Epoch 12/20\n",
            "\u001b[1m500/500\u001b[0m \u001b[32m━━━━━━━━━━━━━━━━━━━━\u001b[0m\u001b[37m\u001b[0m \u001b[1m3s\u001b[0m 3ms/step - accuracy: 0.8929 - loss: 0.3727 - val_accuracy: 0.8885 - val_loss: 0.3737\n",
            "Epoch 13/20\n",
            "\u001b[1m500/500\u001b[0m \u001b[32m━━━━━━━━━━━━━━━━━━━━\u001b[0m\u001b[37m\u001b[0m \u001b[1m1s\u001b[0m 2ms/step - accuracy: 0.9004 - loss: 0.3449 - val_accuracy: 0.8950 - val_loss: 0.3574\n",
            "Epoch 14/20\n",
            "\u001b[1m500/500\u001b[0m \u001b[32m━━━━━━━━━━━━━━━━━━━━\u001b[0m\u001b[37m\u001b[0m \u001b[1m3s\u001b[0m 2ms/step - accuracy: 0.9056 - loss: 0.3247 - val_accuracy: 0.8975 - val_loss: 0.3434\n",
            "Epoch 15/20\n",
            "\u001b[1m500/500\u001b[0m \u001b[32m━━━━━━━━━━━━━━━━━━━━\u001b[0m\u001b[37m\u001b[0m \u001b[1m2s\u001b[0m 3ms/step - accuracy: 0.9059 - loss: 0.3158 - val_accuracy: 0.9013 - val_loss: 0.3313\n",
            "Epoch 16/20\n",
            "\u001b[1m500/500\u001b[0m \u001b[32m━━━━━━━━━━━━━━━━━━━━\u001b[0m\u001b[37m\u001b[0m \u001b[1m2s\u001b[0m 2ms/step - accuracy: 0.9153 - loss: 0.2940 - val_accuracy: 0.9050 - val_loss: 0.3203\n",
            "Epoch 17/20\n",
            "\u001b[1m500/500\u001b[0m \u001b[32m━━━━━━━━━━━━━━━━━━━━\u001b[0m\u001b[37m\u001b[0m \u001b[1m1s\u001b[0m 2ms/step - accuracy: 0.9117 - loss: 0.2942 - val_accuracy: 0.9068 - val_loss: 0.3105\n",
            "Epoch 18/20\n",
            "\u001b[1m500/500\u001b[0m \u001b[32m━━━━━━━━━━━━━━━━━━━━\u001b[0m\u001b[37m\u001b[0m \u001b[1m3s\u001b[0m 2ms/step - accuracy: 0.9163 - loss: 0.2846 - val_accuracy: 0.9078 - val_loss: 0.3030\n",
            "Epoch 19/20\n",
            "\u001b[1m500/500\u001b[0m \u001b[32m━━━━━━━━━━━━━━━━━━━━\u001b[0m\u001b[37m\u001b[0m \u001b[1m2s\u001b[0m 2ms/step - accuracy: 0.9183 - loss: 0.2670 - val_accuracy: 0.9128 - val_loss: 0.2943\n",
            "Epoch 20/20\n",
            "\u001b[1m500/500\u001b[0m \u001b[32m━━━━━━━━━━━━━━━━━━━━\u001b[0m\u001b[37m\u001b[0m \u001b[1m1s\u001b[0m 2ms/step - accuracy: 0.9269 - loss: 0.2558 - val_accuracy: 0.9118 - val_loss: 0.2862\n"
          ]
        },
        {
          "output_type": "execute_result",
          "data": {
            "text/plain": [
              "<keras.src.callbacks.history.History at 0x7de2b9920990>"
            ]
          },
          "metadata": {},
          "execution_count": 23
        }
      ]
    },
    {
      "cell_type": "code",
      "source": [
        "# Evaluating the Model\n",
        "y_pred = np.argmax(model.predict(X_test), axis=1)\n",
        "print(\"Accuracy:\", accuracy_score(y_test, y_pred))\n",
        "print(\"Classification Report:\\n\", classification_report(y_test, y_pred))"
      ],
      "metadata": {
        "colab": {
          "base_uri": "https://localhost:8080/"
        },
        "id": "EpVH2HXJwXWM",
        "outputId": "13a7bba7-7ec4-4754-fc06-bcc82868ab11"
      },
      "execution_count": 24,
      "outputs": [
        {
          "output_type": "stream",
          "name": "stdout",
          "text": [
            "\u001b[1m125/125\u001b[0m \u001b[32m━━━━━━━━━━━━━━━━━━━━\u001b[0m\u001b[37m\u001b[0m \u001b[1m0s\u001b[0m 1ms/step\n",
            "Accuracy: 0.91175\n",
            "Classification Report:\n",
            "               precision    recall  f1-score   support\n",
            "\n",
            "           0       0.96      0.94      0.95       149\n",
            "           1       0.88      0.89      0.89       153\n",
            "           2       0.93      0.93      0.93       137\n",
            "           3       0.84      0.94      0.89       156\n",
            "           4       0.91      0.91      0.91       141\n",
            "           5       0.90      0.86      0.88       140\n",
            "           6       0.88      0.88      0.88       160\n",
            "           7       0.79      0.74      0.76       144\n",
            "           8       0.95      0.89      0.92       146\n",
            "           9       0.95      0.93      0.94       149\n",
            "          10       0.83      0.82      0.82       130\n",
            "          11       0.99      0.95      0.97       155\n",
            "          12       0.96      0.96      0.96       168\n",
            "          13       0.93      0.87      0.90       151\n",
            "          14       0.88      0.92      0.90       145\n",
            "          15       0.96      0.91      0.94       173\n",
            "          16       0.96      0.92      0.94       166\n",
            "          17       0.78      0.88      0.83       160\n",
            "          18       0.90      0.93      0.91       171\n",
            "          19       0.94      0.93      0.94       163\n",
            "          20       0.94      0.91      0.93       183\n",
            "          21       0.95      0.93      0.94       158\n",
            "          22       0.94      0.97      0.96       148\n",
            "          23       0.90      0.95      0.93       154\n",
            "          24       0.92      0.95      0.94       168\n",
            "          25       0.95      0.95      0.95       132\n",
            "\n",
            "    accuracy                           0.91      4000\n",
            "   macro avg       0.91      0.91      0.91      4000\n",
            "weighted avg       0.91      0.91      0.91      4000\n",
            "\n"
          ]
        }
      ]
    },
    {
      "cell_type": "code",
      "source": [
        "# Basic Hyperparameter Tuning\n",
        "best_accuracy = 0\n",
        "best_params = {}\n",
        "for layers in [1, 2]:\n",
        "    for neurons in [32, 64]:\n",
        "        for lr in [0.001, 0.01]:\n",
        "            model = create_model(hidden_layers=layers, neurons=neurons, learning_rate=lr)\n",
        "            model.fit(X_train, y_train, epochs=10, batch_size=32, verbose=0)\n",
        "            acc = model.evaluate(X_test, y_test, verbose=0)[1]\n",
        "            if acc > best_accuracy:\n",
        "                best_accuracy = acc\n",
        "                best_params = {'layers': layers, 'neurons': neurons, 'lr': lr}"
      ],
      "metadata": {
        "id": "VpdjhqHAwk7L"
      },
      "execution_count": 25,
      "outputs": []
    },
    {
      "cell_type": "code",
      "source": [
        "print(\"Best Hyperparameters:\", best_params)\n",
        "print(\"Best Accuracy:\", best_accuracy)"
      ],
      "metadata": {
        "colab": {
          "base_uri": "https://localhost:8080/"
        },
        "id": "iM2Wo6QEwosV",
        "outputId": "549f233d-6f4e-4319-97ab-098f212ddc16"
      },
      "execution_count": 26,
      "outputs": [
        {
          "output_type": "stream",
          "name": "stdout",
          "text": [
            "Best Hyperparameters: {'layers': 2, 'neurons': 64, 'lr': 0.01}\n",
            "Best Accuracy: 0.9212499856948853\n"
          ]
        }
      ]
    }
  ]
}