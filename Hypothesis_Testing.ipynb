{
  "nbformat": 4,
  "nbformat_minor": 0,
  "metadata": {
    "colab": {
      "provenance": []
    },
    "kernelspec": {
      "name": "python3",
      "display_name": "Python 3"
    },
    "language_info": {
      "name": "python"
    }
  },
  "cells": [
    {
      "cell_type": "code",
      "execution_count": 47,
      "metadata": {
        "id": "SeFchxDJtFns"
      },
      "outputs": [],
      "source": [
        "# 1) One-sample t-test"
      ]
    },
    {
      "cell_type": "code",
      "source": [
        "# Step 1: State the Hypotheses\n",
        "#Null Hypothesis (H₀): The mean weekly operating cost is equal to the theoretical value predicted by the model.\n",
        "                # H₀:𝜇=𝜇0=𝜇=4000.......(theoretical mean weekly cost according to the cost model (W = $1,000 + $5X for X = 600 units)=1000+5×600=4000)\n",
        "#Alternative Hypothesis (H₁): The mean weekly operating cost is higher than the theoretical value predicted by the model (this is a one-tailed test).\n",
        "                        #𝐻1:𝜇>4000"
      ],
      "metadata": {
        "id": "x704rva_yUdM"
      },
      "execution_count": 48,
      "outputs": []
    },
    {
      "cell_type": "code",
      "source": [
        "# Step 2 : Calculate the Test Statistic:"
      ],
      "metadata": {
        "id": "FPSqTVEzzA4h"
      },
      "execution_count": 49,
      "outputs": []
    },
    {
      "cell_type": "code",
      "source": [
        "import numpy as np\n",
        "from scipy import stats\n",
        "\n",
        "# Given data\n",
        "sample_mean = 3050  # Sample mean weekly cost (Rs.)\n",
        "theoretical_mean = 1000 + 5 * 600  # Theoretical mean weekly cost\n",
        "std_deviation = 5 * 25  # Standard deviation of operating cost\n",
        "sample_size = 25  # Sample size\n",
        "\n",
        "# Step 2: Calculate the Test Statistic\n",
        "t_statistic = (sample_mean - theoretical_mean) / (std_deviation / np.sqrt(sample_size))\n",
        "t_statistic\n"
      ],
      "metadata": {
        "colab": {
          "base_uri": "https://localhost:8080/"
        },
        "id": "Z4A-KHyy1bKd",
        "outputId": "ab96c1d2-0962-41f9-90e4-2fb270bb5130"
      },
      "execution_count": 50,
      "outputs": [
        {
          "output_type": "execute_result",
          "data": {
            "text/plain": [
              "-38.0"
            ]
          },
          "metadata": {},
          "execution_count": 50
        }
      ]
    },
    {
      "cell_type": "code",
      "source": [
        "# Step 3 : Determine the Critical Value:"
      ],
      "metadata": {
        "id": "AnWwKZIu2rxH"
      },
      "execution_count": 51,
      "outputs": []
    },
    {
      "cell_type": "code",
      "source": [
        "#alpha = 0.05 i.e. CL=0.95\n",
        "df = sample_size - 1  # Degrees of freedom\n",
        "critical_value = stats.t.ppf(0.95,df)  # One-tailed test\n",
        "critical_value\n"
      ],
      "metadata": {
        "colab": {
          "base_uri": "https://localhost:8080/"
        },
        "id": "g0jvjBKI26F5",
        "outputId": "382b9079-a781-48e8-ccac-b8b88b85b773"
      },
      "execution_count": 52,
      "outputs": [
        {
          "output_type": "execute_result",
          "data": {
            "text/plain": [
              "1.7108820799094275"
            ]
          },
          "metadata": {},
          "execution_count": 52
        }
      ]
    },
    {
      "cell_type": "code",
      "source": [
        "# Step 4 : Make a Decision:"
      ],
      "metadata": {
        "id": "4oYc0k2f3poa"
      },
      "execution_count": 53,
      "outputs": []
    },
    {
      "cell_type": "code",
      "source": [
        "# t_statistic < critical_value => Accept H₀ => H₀:𝜇=𝜇0=𝜇=4000"
      ],
      "metadata": {
        "id": "U04MIhvb3sbb"
      },
      "execution_count": 54,
      "outputs": []
    },
    {
      "cell_type": "code",
      "source": [
        "# Step 5 : Conclusion: Based on the test, we fail to reject the null hypothesis. Thus, there is insufficient evidence to support the restaurant owners' claim that weekly operating costs are higher than the model suggests."
      ],
      "metadata": {
        "id": "9FCAV8a74-hz"
      },
      "execution_count": 55,
      "outputs": []
    },
    {
      "cell_type": "code",
      "source": [
        "# 2) Chi-Square test"
      ],
      "metadata": {
        "id": "WAJc0HEu7OOv"
      },
      "execution_count": 56,
      "outputs": []
    },
    {
      "cell_type": "code",
      "source": [
        "# Step 1: State the Hypotheses\n",
        "# Null Hypothesis (H₀): There is no association between the type of smart home device purchased and customer satisfaction level. In other words, the device type and satisfaction level are independent.\n",
        "# Alternative Hypothesis (H₁): There is a significant association between the type of smart home device purchased and customer satisfaction level."
      ],
      "metadata": {
        "id": "pzNdTSwC7Wst"
      },
      "execution_count": 57,
      "outputs": []
    },
    {
      "cell_type": "code",
      "source": [
        "# Step 2: Compute the Chi-Square Statistic:\n",
        "import numpy as np\n",
        "import scipy\n",
        "from  scipy import stats\n",
        "\n",
        "# Data provided\n",
        "observed = np.array([[50, 70],\n",
        "                     [80, 100],\n",
        "                     [60, 90],\n",
        "                     [30, 50],\n",
        "                     [20, 50]])\n",
        "\n",
        "# Row totals (satisfaction levels)\n",
        "row_totals = np.array([120, 180, 150, 80, 70])\n",
        "\n",
        "# Column totals (device types)\n",
        "col_totals = np.array([240, 360])\n",
        "\n",
        "# Grand total\n",
        "grand_total = 600\n",
        "\n",
        "# Calculate Expected Frequencies\n",
        "expected = np.outer(row_totals, col_totals) / grand_total\n",
        "print('Expected Frequencies',expected)\n",
        "\n",
        "# Calculate Chi-Square Statistic\n",
        "chi_square_stat = np.sum((observed - expected) ** 2 / expected)\n",
        "print('chi_square_stat',chi_square_stat)"
      ],
      "metadata": {
        "colab": {
          "base_uri": "https://localhost:8080/"
        },
        "id": "LksTKjCK9EQI",
        "outputId": "be04125a-0cc2-416e-f8b2-195bb8e897ec"
      },
      "execution_count": 58,
      "outputs": [
        {
          "output_type": "stream",
          "name": "stdout",
          "text": [
            "Expected Frequencies [[ 48.  72.]\n",
            " [ 72. 108.]\n",
            " [ 60.  90.]\n",
            " [ 32.  48.]\n",
            " [ 28.  42.]]\n",
            "chi_square_stat 5.638227513227513\n"
          ]
        }
      ]
    },
    {
      "cell_type": "code",
      "source": [
        "# Step 3: Determine the Critical Value:\n",
        "# alpha=0.05 i.e. CL=0.95\n",
        "# Calculate degrees of freedom\n",
        "df = (5 - 1) * (2 - 1)  # (number of rows - 1) * (number of columns - 1)\n",
        "df\n",
        "critical_value = stats.chi2.ppf(0.95, df)\n",
        "critical_value"
      ],
      "metadata": {
        "colab": {
          "base_uri": "https://localhost:8080/"
        },
        "id": "O_frHcdkD_Rw",
        "outputId": "87fd1d58-356c-4392-84e0-c906c4d1cd6a"
      },
      "execution_count": 59,
      "outputs": [
        {
          "output_type": "execute_result",
          "data": {
            "text/plain": [
              "9.487729036781154"
            ]
          },
          "metadata": {},
          "execution_count": 59
        }
      ]
    },
    {
      "cell_type": "code",
      "source": [
        "# Step 4: Make a Decision:\n",
        "# chi_square_stat < critical_value => Accept H₀ => H₀: There is no association between the type of smart home device purchased and customer satisfaction level."
      ],
      "metadata": {
        "id": "ekEkxKVcE9Fb"
      },
      "execution_count": 60,
      "outputs": []
    }
  ]
}